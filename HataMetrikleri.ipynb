{
 "cells": [
  {
   "cell_type": "code",
   "execution_count": 1,
   "id": "85b94286-2e61-4761-aa19-ac4a4afd6897",
   "metadata": {},
   "outputs": [],
   "source": [
    "# MSE RMSE MAE MAPE "
   ]
  },
  {
   "cell_type": "code",
   "execution_count": 2,
   "id": "c1287782-598b-497b-a04a-a410e59aab46",
   "metadata": {},
   "outputs": [],
   "source": [
    "import numpy as np\n",
    "import pandas as pd\n",
    "from sklearn.linear_model import LinearRegression\n",
    "from sklearn.model_selection import train_test_split\n",
    "from sklearn.metrics import mean_squared_error,mean_absolute_error,mean_absolute_percentage_error"
   ]
  },
  {
   "cell_type": "code",
   "execution_count": 3,
   "id": "af526e83-23ff-42b4-af18-478e9af339bc",
   "metadata": {},
   "outputs": [
    {
     "data": {
      "text/html": [
       "<div>\n",
       "<style scoped>\n",
       "    .dataframe tbody tr th:only-of-type {\n",
       "        vertical-align: middle;\n",
       "    }\n",
       "\n",
       "    .dataframe tbody tr th {\n",
       "        vertical-align: top;\n",
       "    }\n",
       "\n",
       "    .dataframe thead th {\n",
       "        text-align: right;\n",
       "    }\n",
       "</style>\n",
       "<table border=\"1\" class=\"dataframe\">\n",
       "  <thead>\n",
       "    <tr style=\"text-align: right;\">\n",
       "      <th></th>\n",
       "      <th>age</th>\n",
       "      <th>sex</th>\n",
       "      <th>bmi</th>\n",
       "      <th>children</th>\n",
       "      <th>smoker</th>\n",
       "      <th>region</th>\n",
       "      <th>charges</th>\n",
       "    </tr>\n",
       "  </thead>\n",
       "  <tbody>\n",
       "    <tr>\n",
       "      <th>0</th>\n",
       "      <td>19</td>\n",
       "      <td>female</td>\n",
       "      <td>27.900</td>\n",
       "      <td>0</td>\n",
       "      <td>yes</td>\n",
       "      <td>southwest</td>\n",
       "      <td>16884.92400</td>\n",
       "    </tr>\n",
       "    <tr>\n",
       "      <th>1</th>\n",
       "      <td>18</td>\n",
       "      <td>male</td>\n",
       "      <td>33.770</td>\n",
       "      <td>1</td>\n",
       "      <td>no</td>\n",
       "      <td>southeast</td>\n",
       "      <td>1725.55230</td>\n",
       "    </tr>\n",
       "    <tr>\n",
       "      <th>2</th>\n",
       "      <td>28</td>\n",
       "      <td>male</td>\n",
       "      <td>33.000</td>\n",
       "      <td>3</td>\n",
       "      <td>no</td>\n",
       "      <td>southeast</td>\n",
       "      <td>4449.46200</td>\n",
       "    </tr>\n",
       "    <tr>\n",
       "      <th>3</th>\n",
       "      <td>33</td>\n",
       "      <td>male</td>\n",
       "      <td>22.705</td>\n",
       "      <td>0</td>\n",
       "      <td>no</td>\n",
       "      <td>northwest</td>\n",
       "      <td>21984.47061</td>\n",
       "    </tr>\n",
       "    <tr>\n",
       "      <th>4</th>\n",
       "      <td>32</td>\n",
       "      <td>male</td>\n",
       "      <td>28.880</td>\n",
       "      <td>0</td>\n",
       "      <td>no</td>\n",
       "      <td>northwest</td>\n",
       "      <td>3866.85520</td>\n",
       "    </tr>\n",
       "  </tbody>\n",
       "</table>\n",
       "</div>"
      ],
      "text/plain": [
       "   age     sex     bmi  children smoker     region      charges\n",
       "0   19  female  27.900         0    yes  southwest  16884.92400\n",
       "1   18    male  33.770         1     no  southeast   1725.55230\n",
       "2   28    male  33.000         3     no  southeast   4449.46200\n",
       "3   33    male  22.705         0     no  northwest  21984.47061\n",
       "4   32    male  28.880         0     no  northwest   3866.85520"
      ]
     },
     "execution_count": 3,
     "metadata": {},
     "output_type": "execute_result"
    }
   ],
   "source": [
    "df=pd.read_csv(\"insurance.csv\")\n",
    "df.head()"
   ]
  },
  {
   "cell_type": "code",
   "execution_count": 4,
   "id": "cfc1fb84-ef8f-42cf-897f-68a7da1fc580",
   "metadata": {},
   "outputs": [
    {
     "name": "stdout",
     "output_type": "stream",
     "text": [
      "<class 'pandas.core.frame.DataFrame'>\n",
      "RangeIndex: 1338 entries, 0 to 1337\n",
      "Data columns (total 7 columns):\n",
      " #   Column    Non-Null Count  Dtype  \n",
      "---  ------    --------------  -----  \n",
      " 0   age       1338 non-null   int64  \n",
      " 1   sex       1338 non-null   object \n",
      " 2   bmi       1338 non-null   float64\n",
      " 3   children  1338 non-null   int64  \n",
      " 4   smoker    1338 non-null   object \n",
      " 5   region    1338 non-null   object \n",
      " 6   charges   1338 non-null   float64\n",
      "dtypes: float64(2), int64(2), object(3)\n",
      "memory usage: 73.3+ KB\n"
     ]
    }
   ],
   "source": [
    "df.info()"
   ]
  },
  {
   "cell_type": "code",
   "execution_count": 5,
   "id": "85d2c97f-c397-4bdb-9f6f-d89a5a32c660",
   "metadata": {},
   "outputs": [
    {
     "data": {
      "text/html": [
       "<div>\n",
       "<style scoped>\n",
       "    .dataframe tbody tr th:only-of-type {\n",
       "        vertical-align: middle;\n",
       "    }\n",
       "\n",
       "    .dataframe tbody tr th {\n",
       "        vertical-align: top;\n",
       "    }\n",
       "\n",
       "    .dataframe thead th {\n",
       "        text-align: right;\n",
       "    }\n",
       "</style>\n",
       "<table border=\"1\" class=\"dataframe\">\n",
       "  <thead>\n",
       "    <tr style=\"text-align: right;\">\n",
       "      <th></th>\n",
       "      <th>age</th>\n",
       "      <th>bmi</th>\n",
       "      <th>children</th>\n",
       "      <th>charges</th>\n",
       "      <th>sex_male</th>\n",
       "      <th>smoker_yes</th>\n",
       "      <th>region_northwest</th>\n",
       "      <th>region_southeast</th>\n",
       "      <th>region_southwest</th>\n",
       "    </tr>\n",
       "  </thead>\n",
       "  <tbody>\n",
       "    <tr>\n",
       "      <th>0</th>\n",
       "      <td>19</td>\n",
       "      <td>27</td>\n",
       "      <td>0</td>\n",
       "      <td>16884</td>\n",
       "      <td>0</td>\n",
       "      <td>1</td>\n",
       "      <td>0</td>\n",
       "      <td>0</td>\n",
       "      <td>1</td>\n",
       "    </tr>\n",
       "    <tr>\n",
       "      <th>1</th>\n",
       "      <td>18</td>\n",
       "      <td>33</td>\n",
       "      <td>1</td>\n",
       "      <td>1725</td>\n",
       "      <td>1</td>\n",
       "      <td>0</td>\n",
       "      <td>0</td>\n",
       "      <td>1</td>\n",
       "      <td>0</td>\n",
       "    </tr>\n",
       "    <tr>\n",
       "      <th>2</th>\n",
       "      <td>28</td>\n",
       "      <td>33</td>\n",
       "      <td>3</td>\n",
       "      <td>4449</td>\n",
       "      <td>1</td>\n",
       "      <td>0</td>\n",
       "      <td>0</td>\n",
       "      <td>1</td>\n",
       "      <td>0</td>\n",
       "    </tr>\n",
       "    <tr>\n",
       "      <th>3</th>\n",
       "      <td>33</td>\n",
       "      <td>22</td>\n",
       "      <td>0</td>\n",
       "      <td>21984</td>\n",
       "      <td>1</td>\n",
       "      <td>0</td>\n",
       "      <td>1</td>\n",
       "      <td>0</td>\n",
       "      <td>0</td>\n",
       "    </tr>\n",
       "    <tr>\n",
       "      <th>4</th>\n",
       "      <td>32</td>\n",
       "      <td>28</td>\n",
       "      <td>0</td>\n",
       "      <td>3866</td>\n",
       "      <td>1</td>\n",
       "      <td>0</td>\n",
       "      <td>1</td>\n",
       "      <td>0</td>\n",
       "      <td>0</td>\n",
       "    </tr>\n",
       "  </tbody>\n",
       "</table>\n",
       "</div>"
      ],
      "text/plain": [
       "   age  bmi  children  charges  sex_male  smoker_yes  region_northwest  \\\n",
       "0   19   27         0    16884         0           1                 0   \n",
       "1   18   33         1     1725         1           0                 0   \n",
       "2   28   33         3     4449         1           0                 0   \n",
       "3   33   22         0    21984         1           0                 1   \n",
       "4   32   28         0     3866         1           0                 1   \n",
       "\n",
       "   region_southeast  region_southwest  \n",
       "0                 0                 1  \n",
       "1                 1                 0  \n",
       "2                 1                 0  \n",
       "3                 0                 0  \n",
       "4                 0                 0  "
      ]
     },
     "execution_count": 5,
     "metadata": {},
     "output_type": "execute_result"
    }
   ],
   "source": [
    "df=pd.get_dummies(df,columns=[\"sex\",\"smoker\",\"region\"],drop_first=True).astype(int)\n",
    "df.head()"
   ]
  },
  {
   "cell_type": "code",
   "execution_count": 6,
   "id": "b985745a-3b9f-4a42-85b1-148c5d9bfe74",
   "metadata": {},
   "outputs": [],
   "source": [
    "y=df[\"charges\"]\n",
    "x=df.drop(\"charges\",axis=1)\n"
   ]
  },
  {
   "cell_type": "code",
   "execution_count": 7,
   "id": "6149113a-4d49-411f-aad8-47647f05c285",
   "metadata": {},
   "outputs": [],
   "source": [
    "lm=LinearRegression()\n",
    "model=lm.fit(x,y)"
   ]
  },
  {
   "cell_type": "code",
   "execution_count": 8,
   "id": "d20964ee-a45f-4453-93f7-ab02fd4493c3",
   "metadata": {},
   "outputs": [
    {
     "data": {
      "text/plain": [
       "0.7508828216439194"
      ]
     },
     "execution_count": 8,
     "metadata": {},
     "output_type": "execute_result"
    }
   ],
   "source": [
    "model.score(x,y)"
   ]
  },
  {
   "cell_type": "code",
   "execution_count": 9,
   "id": "6891f4f6-141e-4e6e-98ae-56bed023eaf1",
   "metadata": {},
   "outputs": [
    {
     "name": "stderr",
     "output_type": "stream",
     "text": [
      "C:\\Users\\omer_\\anaconda3\\Lib\\site-packages\\sklearn\\base.py:493: UserWarning: X does not have valid feature names, but LinearRegression was fitted with feature names\n",
      "  warnings.warn(\n"
     ]
    },
    {
     "data": {
      "text/plain": [
       "array([24686.11226985])"
      ]
     },
     "execution_count": 9,
     "metadata": {},
     "output_type": "execute_result"
    }
   ],
   "source": [
    "model.predict([[19,26,0,1,1,0,0,1]])"
   ]
  },
  {
   "cell_type": "code",
   "execution_count": 10,
   "id": "632e6c99-5bc9-4c95-b670-acf6798bc416",
   "metadata": {},
   "outputs": [],
   "source": [
    "df_hata=pd.DataFrame()"
   ]
  },
  {
   "cell_type": "code",
   "execution_count": 11,
   "id": "18ce3c62-daa7-4d68-bd83-0c6ac3e923be",
   "metadata": {},
   "outputs": [],
   "source": [
    "df_hata[\"y\"]=y"
   ]
  },
  {
   "cell_type": "code",
   "execution_count": 12,
   "id": "83baf24a-bfeb-4b56-9306-1f8504906685",
   "metadata": {},
   "outputs": [],
   "source": [
    "y_tahmin=model.predict(x)"
   ]
  },
  {
   "cell_type": "code",
   "execution_count": 13,
   "id": "36eb9643-ec7e-46d3-9244-c14a25cf9227",
   "metadata": {},
   "outputs": [],
   "source": [
    "df_hata[\"tahmin\"]=y_tahmin"
   ]
  },
  {
   "cell_type": "code",
   "execution_count": 14,
   "id": "f3b5e0ed-54fe-484a-b137-9dfbae71187e",
   "metadata": {},
   "outputs": [
    {
     "data": {
      "text/html": [
       "<div>\n",
       "<style scoped>\n",
       "    .dataframe tbody tr th:only-of-type {\n",
       "        vertical-align: middle;\n",
       "    }\n",
       "\n",
       "    .dataframe tbody tr th {\n",
       "        vertical-align: top;\n",
       "    }\n",
       "\n",
       "    .dataframe thead th {\n",
       "        text-align: right;\n",
       "    }\n",
       "</style>\n",
       "<table border=\"1\" class=\"dataframe\">\n",
       "  <thead>\n",
       "    <tr style=\"text-align: right;\">\n",
       "      <th></th>\n",
       "      <th>y</th>\n",
       "      <th>tahmin</th>\n",
       "    </tr>\n",
       "  </thead>\n",
       "  <tbody>\n",
       "    <tr>\n",
       "      <th>0</th>\n",
       "      <td>16884</td>\n",
       "      <td>25156.523661</td>\n",
       "    </tr>\n",
       "    <tr>\n",
       "      <th>1</th>\n",
       "      <td>1725</td>\n",
       "      <td>3340.655590</td>\n",
       "    </tr>\n",
       "    <tr>\n",
       "      <th>2</th>\n",
       "      <td>4449</td>\n",
       "      <td>6866.897754</td>\n",
       "    </tr>\n",
       "    <tr>\n",
       "      <th>3</th>\n",
       "      <td>21984</td>\n",
       "      <td>3695.166565</td>\n",
       "    </tr>\n",
       "    <tr>\n",
       "      <th>4</th>\n",
       "      <td>3866</td>\n",
       "      <td>5466.132057</td>\n",
       "    </tr>\n",
       "    <tr>\n",
       "      <th>...</th>\n",
       "      <td>...</td>\n",
       "      <td>...</td>\n",
       "    </tr>\n",
       "    <tr>\n",
       "      <th>1333</th>\n",
       "      <td>10600</td>\n",
       "      <td>12202.408092</td>\n",
       "    </tr>\n",
       "    <tr>\n",
       "      <th>1334</th>\n",
       "      <td>2205</td>\n",
       "      <td>3361.307679</td>\n",
       "    </tr>\n",
       "    <tr>\n",
       "      <th>1335</th>\n",
       "      <td>1629</td>\n",
       "      <td>4008.813262</td>\n",
       "    </tr>\n",
       "    <tr>\n",
       "      <th>1336</th>\n",
       "      <td>2007</td>\n",
       "      <td>1134.725931</td>\n",
       "    </tr>\n",
       "    <tr>\n",
       "      <th>1337</th>\n",
       "      <td>29141</td>\n",
       "      <td>37248.656157</td>\n",
       "    </tr>\n",
       "  </tbody>\n",
       "</table>\n",
       "<p>1338 rows × 2 columns</p>\n",
       "</div>"
      ],
      "text/plain": [
       "          y        tahmin\n",
       "0     16884  25156.523661\n",
       "1      1725   3340.655590\n",
       "2      4449   6866.897754\n",
       "3     21984   3695.166565\n",
       "4      3866   5466.132057\n",
       "...     ...           ...\n",
       "1333  10600  12202.408092\n",
       "1334   2205   3361.307679\n",
       "1335   1629   4008.813262\n",
       "1336   2007   1134.725931\n",
       "1337  29141  37248.656157\n",
       "\n",
       "[1338 rows x 2 columns]"
      ]
     },
     "execution_count": 14,
     "metadata": {},
     "output_type": "execute_result"
    }
   ],
   "source": [
    "df_hata"
   ]
  },
  {
   "cell_type": "code",
   "execution_count": 15,
   "id": "e3c361eb-823d-4113-9989-b9c0aa058701",
   "metadata": {},
   "outputs": [],
   "source": [
    "df_hata[\"error\"]=y-y_tahmin"
   ]
  },
  {
   "cell_type": "code",
   "execution_count": 16,
   "id": "c89962d8-2b0d-45e3-8d1d-dba11e19fb18",
   "metadata": {},
   "outputs": [
    {
     "data": {
      "text/html": [
       "<div>\n",
       "<style scoped>\n",
       "    .dataframe tbody tr th:only-of-type {\n",
       "        vertical-align: middle;\n",
       "    }\n",
       "\n",
       "    .dataframe tbody tr th {\n",
       "        vertical-align: top;\n",
       "    }\n",
       "\n",
       "    .dataframe thead th {\n",
       "        text-align: right;\n",
       "    }\n",
       "</style>\n",
       "<table border=\"1\" class=\"dataframe\">\n",
       "  <thead>\n",
       "    <tr style=\"text-align: right;\">\n",
       "      <th></th>\n",
       "      <th>y</th>\n",
       "      <th>tahmin</th>\n",
       "      <th>error</th>\n",
       "    </tr>\n",
       "  </thead>\n",
       "  <tbody>\n",
       "    <tr>\n",
       "      <th>0</th>\n",
       "      <td>16884</td>\n",
       "      <td>25156.523661</td>\n",
       "      <td>-8272.523661</td>\n",
       "    </tr>\n",
       "    <tr>\n",
       "      <th>1</th>\n",
       "      <td>1725</td>\n",
       "      <td>3340.655590</td>\n",
       "      <td>-1615.655590</td>\n",
       "    </tr>\n",
       "    <tr>\n",
       "      <th>2</th>\n",
       "      <td>4449</td>\n",
       "      <td>6866.897754</td>\n",
       "      <td>-2417.897754</td>\n",
       "    </tr>\n",
       "    <tr>\n",
       "      <th>3</th>\n",
       "      <td>21984</td>\n",
       "      <td>3695.166565</td>\n",
       "      <td>18288.833435</td>\n",
       "    </tr>\n",
       "    <tr>\n",
       "      <th>4</th>\n",
       "      <td>3866</td>\n",
       "      <td>5466.132057</td>\n",
       "      <td>-1600.132057</td>\n",
       "    </tr>\n",
       "    <tr>\n",
       "      <th>...</th>\n",
       "      <td>...</td>\n",
       "      <td>...</td>\n",
       "      <td>...</td>\n",
       "    </tr>\n",
       "    <tr>\n",
       "      <th>1333</th>\n",
       "      <td>10600</td>\n",
       "      <td>12202.408092</td>\n",
       "      <td>-1602.408092</td>\n",
       "    </tr>\n",
       "    <tr>\n",
       "      <th>1334</th>\n",
       "      <td>2205</td>\n",
       "      <td>3361.307679</td>\n",
       "      <td>-1156.307679</td>\n",
       "    </tr>\n",
       "    <tr>\n",
       "      <th>1335</th>\n",
       "      <td>1629</td>\n",
       "      <td>4008.813262</td>\n",
       "      <td>-2379.813262</td>\n",
       "    </tr>\n",
       "    <tr>\n",
       "      <th>1336</th>\n",
       "      <td>2007</td>\n",
       "      <td>1134.725931</td>\n",
       "      <td>872.274069</td>\n",
       "    </tr>\n",
       "    <tr>\n",
       "      <th>1337</th>\n",
       "      <td>29141</td>\n",
       "      <td>37248.656157</td>\n",
       "      <td>-8107.656157</td>\n",
       "    </tr>\n",
       "  </tbody>\n",
       "</table>\n",
       "<p>1338 rows × 3 columns</p>\n",
       "</div>"
      ],
      "text/plain": [
       "          y        tahmin         error\n",
       "0     16884  25156.523661  -8272.523661\n",
       "1      1725   3340.655590  -1615.655590\n",
       "2      4449   6866.897754  -2417.897754\n",
       "3     21984   3695.166565  18288.833435\n",
       "4      3866   5466.132057  -1600.132057\n",
       "...     ...           ...           ...\n",
       "1333  10600  12202.408092  -1602.408092\n",
       "1334   2205   3361.307679  -1156.307679\n",
       "1335   1629   4008.813262  -2379.813262\n",
       "1336   2007   1134.725931    872.274069\n",
       "1337  29141  37248.656157  -8107.656157\n",
       "\n",
       "[1338 rows x 3 columns]"
      ]
     },
     "execution_count": 16,
     "metadata": {},
     "output_type": "execute_result"
    }
   ],
   "source": [
    "df_hata"
   ]
  },
  {
   "cell_type": "code",
   "execution_count": 17,
   "id": "8a2f775d-1b3b-418d-a948-44af824a37b7",
   "metadata": {},
   "outputs": [],
   "source": [
    "#mse hata kareler ortalaması\n",
    "df_hata[\"squared_error\"]=df_hata[\"error\"]**2"
   ]
  },
  {
   "cell_type": "code",
   "execution_count": 18,
   "id": "5b4111c1-eb52-4db8-8e14-946d45dfa19b",
   "metadata": {},
   "outputs": [],
   "source": [
    "#mae mutlak değer hata\n",
    "df_hata[\"abs_error\"]=np.abs(df_hata[\"error\"])"
   ]
  },
  {
   "cell_type": "code",
   "execution_count": 19,
   "id": "3b6401e7-4929-41c8-942e-993af5a9b4e2",
   "metadata": {},
   "outputs": [
    {
     "data": {
      "text/html": [
       "<div>\n",
       "<style scoped>\n",
       "    .dataframe tbody tr th:only-of-type {\n",
       "        vertical-align: middle;\n",
       "    }\n",
       "\n",
       "    .dataframe tbody tr th {\n",
       "        vertical-align: top;\n",
       "    }\n",
       "\n",
       "    .dataframe thead th {\n",
       "        text-align: right;\n",
       "    }\n",
       "</style>\n",
       "<table border=\"1\" class=\"dataframe\">\n",
       "  <thead>\n",
       "    <tr style=\"text-align: right;\">\n",
       "      <th></th>\n",
       "      <th>y</th>\n",
       "      <th>tahmin</th>\n",
       "      <th>error</th>\n",
       "      <th>squared_error</th>\n",
       "      <th>abs_error</th>\n",
       "    </tr>\n",
       "  </thead>\n",
       "  <tbody>\n",
       "    <tr>\n",
       "      <th>0</th>\n",
       "      <td>16884</td>\n",
       "      <td>25156.523661</td>\n",
       "      <td>-8272.523661</td>\n",
       "      <td>6.843465e+07</td>\n",
       "      <td>8272.523661</td>\n",
       "    </tr>\n",
       "    <tr>\n",
       "      <th>1</th>\n",
       "      <td>1725</td>\n",
       "      <td>3340.655590</td>\n",
       "      <td>-1615.655590</td>\n",
       "      <td>2.610343e+06</td>\n",
       "      <td>1615.655590</td>\n",
       "    </tr>\n",
       "    <tr>\n",
       "      <th>2</th>\n",
       "      <td>4449</td>\n",
       "      <td>6866.897754</td>\n",
       "      <td>-2417.897754</td>\n",
       "      <td>5.846230e+06</td>\n",
       "      <td>2417.897754</td>\n",
       "    </tr>\n",
       "    <tr>\n",
       "      <th>3</th>\n",
       "      <td>21984</td>\n",
       "      <td>3695.166565</td>\n",
       "      <td>18288.833435</td>\n",
       "      <td>3.344814e+08</td>\n",
       "      <td>18288.833435</td>\n",
       "    </tr>\n",
       "    <tr>\n",
       "      <th>4</th>\n",
       "      <td>3866</td>\n",
       "      <td>5466.132057</td>\n",
       "      <td>-1600.132057</td>\n",
       "      <td>2.560423e+06</td>\n",
       "      <td>1600.132057</td>\n",
       "    </tr>\n",
       "    <tr>\n",
       "      <th>...</th>\n",
       "      <td>...</td>\n",
       "      <td>...</td>\n",
       "      <td>...</td>\n",
       "      <td>...</td>\n",
       "      <td>...</td>\n",
       "    </tr>\n",
       "    <tr>\n",
       "      <th>1333</th>\n",
       "      <td>10600</td>\n",
       "      <td>12202.408092</td>\n",
       "      <td>-1602.408092</td>\n",
       "      <td>2.567712e+06</td>\n",
       "      <td>1602.408092</td>\n",
       "    </tr>\n",
       "    <tr>\n",
       "      <th>1334</th>\n",
       "      <td>2205</td>\n",
       "      <td>3361.307679</td>\n",
       "      <td>-1156.307679</td>\n",
       "      <td>1.337047e+06</td>\n",
       "      <td>1156.307679</td>\n",
       "    </tr>\n",
       "    <tr>\n",
       "      <th>1335</th>\n",
       "      <td>1629</td>\n",
       "      <td>4008.813262</td>\n",
       "      <td>-2379.813262</td>\n",
       "      <td>5.663511e+06</td>\n",
       "      <td>2379.813262</td>\n",
       "    </tr>\n",
       "    <tr>\n",
       "      <th>1336</th>\n",
       "      <td>2007</td>\n",
       "      <td>1134.725931</td>\n",
       "      <td>872.274069</td>\n",
       "      <td>7.608621e+05</td>\n",
       "      <td>872.274069</td>\n",
       "    </tr>\n",
       "    <tr>\n",
       "      <th>1337</th>\n",
       "      <td>29141</td>\n",
       "      <td>37248.656157</td>\n",
       "      <td>-8107.656157</td>\n",
       "      <td>6.573409e+07</td>\n",
       "      <td>8107.656157</td>\n",
       "    </tr>\n",
       "  </tbody>\n",
       "</table>\n",
       "<p>1338 rows × 5 columns</p>\n",
       "</div>"
      ],
      "text/plain": [
       "          y        tahmin         error  squared_error     abs_error\n",
       "0     16884  25156.523661  -8272.523661   6.843465e+07   8272.523661\n",
       "1      1725   3340.655590  -1615.655590   2.610343e+06   1615.655590\n",
       "2      4449   6866.897754  -2417.897754   5.846230e+06   2417.897754\n",
       "3     21984   3695.166565  18288.833435   3.344814e+08  18288.833435\n",
       "4      3866   5466.132057  -1600.132057   2.560423e+06   1600.132057\n",
       "...     ...           ...           ...            ...           ...\n",
       "1333  10600  12202.408092  -1602.408092   2.567712e+06   1602.408092\n",
       "1334   2205   3361.307679  -1156.307679   1.337047e+06   1156.307679\n",
       "1335   1629   4008.813262  -2379.813262   5.663511e+06   2379.813262\n",
       "1336   2007   1134.725931    872.274069   7.608621e+05    872.274069\n",
       "1337  29141  37248.656157  -8107.656157   6.573409e+07   8107.656157\n",
       "\n",
       "[1338 rows x 5 columns]"
      ]
     },
     "execution_count": 19,
     "metadata": {},
     "output_type": "execute_result"
    }
   ],
   "source": [
    "df_hata"
   ]
  },
  {
   "cell_type": "code",
   "execution_count": 20,
   "id": "ee5194a9-d6c3-4d54-926c-559666d3c1bd",
   "metadata": {},
   "outputs": [],
   "source": [
    "#mape hata oranlarının\n",
    "df_hata[\"percent_error\"]=np.abs((y-y_tahmin)/y)"
   ]
  },
  {
   "cell_type": "code",
   "execution_count": 21,
   "id": "c8195081-5c06-4207-a159-3f7302ce1bbf",
   "metadata": {},
   "outputs": [
    {
     "data": {
      "text/html": [
       "<div>\n",
       "<style scoped>\n",
       "    .dataframe tbody tr th:only-of-type {\n",
       "        vertical-align: middle;\n",
       "    }\n",
       "\n",
       "    .dataframe tbody tr th {\n",
       "        vertical-align: top;\n",
       "    }\n",
       "\n",
       "    .dataframe thead th {\n",
       "        text-align: right;\n",
       "    }\n",
       "</style>\n",
       "<table border=\"1\" class=\"dataframe\">\n",
       "  <thead>\n",
       "    <tr style=\"text-align: right;\">\n",
       "      <th></th>\n",
       "      <th>y</th>\n",
       "      <th>tahmin</th>\n",
       "      <th>error</th>\n",
       "      <th>squared_error</th>\n",
       "      <th>abs_error</th>\n",
       "      <th>percent_error</th>\n",
       "    </tr>\n",
       "  </thead>\n",
       "  <tbody>\n",
       "    <tr>\n",
       "      <th>0</th>\n",
       "      <td>16884</td>\n",
       "      <td>25156.523661</td>\n",
       "      <td>-8272.523661</td>\n",
       "      <td>6.843465e+07</td>\n",
       "      <td>8272.523661</td>\n",
       "      <td>0.489962</td>\n",
       "    </tr>\n",
       "    <tr>\n",
       "      <th>1</th>\n",
       "      <td>1725</td>\n",
       "      <td>3340.655590</td>\n",
       "      <td>-1615.655590</td>\n",
       "      <td>2.610343e+06</td>\n",
       "      <td>1615.655590</td>\n",
       "      <td>0.936612</td>\n",
       "    </tr>\n",
       "    <tr>\n",
       "      <th>2</th>\n",
       "      <td>4449</td>\n",
       "      <td>6866.897754</td>\n",
       "      <td>-2417.897754</td>\n",
       "      <td>5.846230e+06</td>\n",
       "      <td>2417.897754</td>\n",
       "      <td>0.543470</td>\n",
       "    </tr>\n",
       "    <tr>\n",
       "      <th>3</th>\n",
       "      <td>21984</td>\n",
       "      <td>3695.166565</td>\n",
       "      <td>18288.833435</td>\n",
       "      <td>3.344814e+08</td>\n",
       "      <td>18288.833435</td>\n",
       "      <td>0.831916</td>\n",
       "    </tr>\n",
       "    <tr>\n",
       "      <th>4</th>\n",
       "      <td>3866</td>\n",
       "      <td>5466.132057</td>\n",
       "      <td>-1600.132057</td>\n",
       "      <td>2.560423e+06</td>\n",
       "      <td>1600.132057</td>\n",
       "      <td>0.413899</td>\n",
       "    </tr>\n",
       "    <tr>\n",
       "      <th>...</th>\n",
       "      <td>...</td>\n",
       "      <td>...</td>\n",
       "      <td>...</td>\n",
       "      <td>...</td>\n",
       "      <td>...</td>\n",
       "      <td>...</td>\n",
       "    </tr>\n",
       "    <tr>\n",
       "      <th>1333</th>\n",
       "      <td>10600</td>\n",
       "      <td>12202.408092</td>\n",
       "      <td>-1602.408092</td>\n",
       "      <td>2.567712e+06</td>\n",
       "      <td>1602.408092</td>\n",
       "      <td>0.151171</td>\n",
       "    </tr>\n",
       "    <tr>\n",
       "      <th>1334</th>\n",
       "      <td>2205</td>\n",
       "      <td>3361.307679</td>\n",
       "      <td>-1156.307679</td>\n",
       "      <td>1.337047e+06</td>\n",
       "      <td>1156.307679</td>\n",
       "      <td>0.524403</td>\n",
       "    </tr>\n",
       "    <tr>\n",
       "      <th>1335</th>\n",
       "      <td>1629</td>\n",
       "      <td>4008.813262</td>\n",
       "      <td>-2379.813262</td>\n",
       "      <td>5.663511e+06</td>\n",
       "      <td>2379.813262</td>\n",
       "      <td>1.460904</td>\n",
       "    </tr>\n",
       "    <tr>\n",
       "      <th>1336</th>\n",
       "      <td>2007</td>\n",
       "      <td>1134.725931</td>\n",
       "      <td>872.274069</td>\n",
       "      <td>7.608621e+05</td>\n",
       "      <td>872.274069</td>\n",
       "      <td>0.434616</td>\n",
       "    </tr>\n",
       "    <tr>\n",
       "      <th>1337</th>\n",
       "      <td>29141</td>\n",
       "      <td>37248.656157</td>\n",
       "      <td>-8107.656157</td>\n",
       "      <td>6.573409e+07</td>\n",
       "      <td>8107.656157</td>\n",
       "      <td>0.278222</td>\n",
       "    </tr>\n",
       "  </tbody>\n",
       "</table>\n",
       "<p>1338 rows × 6 columns</p>\n",
       "</div>"
      ],
      "text/plain": [
       "          y        tahmin         error  squared_error     abs_error  \\\n",
       "0     16884  25156.523661  -8272.523661   6.843465e+07   8272.523661   \n",
       "1      1725   3340.655590  -1615.655590   2.610343e+06   1615.655590   \n",
       "2      4449   6866.897754  -2417.897754   5.846230e+06   2417.897754   \n",
       "3     21984   3695.166565  18288.833435   3.344814e+08  18288.833435   \n",
       "4      3866   5466.132057  -1600.132057   2.560423e+06   1600.132057   \n",
       "...     ...           ...           ...            ...           ...   \n",
       "1333  10600  12202.408092  -1602.408092   2.567712e+06   1602.408092   \n",
       "1334   2205   3361.307679  -1156.307679   1.337047e+06   1156.307679   \n",
       "1335   1629   4008.813262  -2379.813262   5.663511e+06   2379.813262   \n",
       "1336   2007   1134.725931    872.274069   7.608621e+05    872.274069   \n",
       "1337  29141  37248.656157  -8107.656157   6.573409e+07   8107.656157   \n",
       "\n",
       "      percent_error  \n",
       "0          0.489962  \n",
       "1          0.936612  \n",
       "2          0.543470  \n",
       "3          0.831916  \n",
       "4          0.413899  \n",
       "...             ...  \n",
       "1333       0.151171  \n",
       "1334       0.524403  \n",
       "1335       1.460904  \n",
       "1336       0.434616  \n",
       "1337       0.278222  \n",
       "\n",
       "[1338 rows x 6 columns]"
      ]
     },
     "execution_count": 21,
     "metadata": {},
     "output_type": "execute_result"
    }
   ],
   "source": [
    "df_hata"
   ]
  },
  {
   "cell_type": "code",
   "execution_count": 22,
   "id": "912a2a2b-6d30-424c-9022-0f48ae104427",
   "metadata": {},
   "outputs": [
    {
     "data": {
      "text/plain": [
       "y                1.326993e+04\n",
       "tahmin           1.326993e+04\n",
       "error            2.414443e-12\n",
       "squared_error    3.650633e+07\n",
       "abs_error        4.170360e+03\n",
       "percent_error    4.206582e-01\n",
       "dtype: float64"
      ]
     },
     "execution_count": 22,
     "metadata": {},
     "output_type": "execute_result"
    }
   ],
   "source": [
    "df_hata.mean()"
   ]
  },
  {
   "cell_type": "code",
   "execution_count": 23,
   "id": "870d175a-c7f7-46a9-88fb-3991386895cc",
   "metadata": {},
   "outputs": [],
   "source": [
    "#yukardaki işlemlerin kısa yolu"
   ]
  },
  {
   "cell_type": "code",
   "execution_count": 24,
   "id": "c74a5b2a-7888-4483-a780-c4275bbac8b3",
   "metadata": {},
   "outputs": [
    {
     "data": {
      "text/plain": [
       "36506329.651005656"
      ]
     },
     "execution_count": 24,
     "metadata": {},
     "output_type": "execute_result"
    }
   ],
   "source": [
    "mean_squared_error(y,y_tahmin)"
   ]
  },
  {
   "cell_type": "code",
   "execution_count": 50,
   "id": "886807a4-f242-49d6-b941-802d353b2ddc",
   "metadata": {},
   "outputs": [
    {
     "data": {
      "text/plain": [
       "4170.359803898069"
      ]
     },
     "execution_count": 50,
     "metadata": {},
     "output_type": "execute_result"
    }
   ],
   "source": [
    "mean_absolute_error(y,y_tahmin)"
   ]
  },
  {
   "cell_type": "code",
   "execution_count": 52,
   "id": "be293921-7486-479e-8a7f-785c7cc3626c",
   "metadata": {},
   "outputs": [
    {
     "data": {
      "text/plain": [
       "0.42065817129070704"
      ]
     },
     "execution_count": 52,
     "metadata": {},
     "output_type": "execute_result"
    }
   ],
   "source": [
    "mean_absolute_percentage_error(y,y_tahmin)"
   ]
  },
  {
   "cell_type": "code",
   "execution_count": null,
   "id": "6b6f836c-4dd7-42de-8947-21746b67010c",
   "metadata": {},
   "outputs": [],
   "source": []
  }
 ],
 "metadata": {
  "kernelspec": {
   "display_name": "Python 3 (ipykernel)",
   "language": "python",
   "name": "python3"
  },
  "language_info": {
   "codemirror_mode": {
    "name": "ipython",
    "version": 3
   },
   "file_extension": ".py",
   "mimetype": "text/x-python",
   "name": "python",
   "nbconvert_exporter": "python",
   "pygments_lexer": "ipython3",
   "version": "3.12.7"
  }
 },
 "nbformat": 4,
 "nbformat_minor": 5
}
