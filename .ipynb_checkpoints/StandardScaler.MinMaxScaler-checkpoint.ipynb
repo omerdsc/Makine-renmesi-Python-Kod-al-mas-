{
 "cells": [
  {
   "cell_type": "code",
   "execution_count": 1,
   "id": "6d80f242-8808-4ef8-ae85-250f140e8afb",
   "metadata": {},
   "outputs": [],
   "source": [
    "import pandas as pd\n",
    "import numpy as np\n",
    "from sklearn.preprocessing import StandardScaler,MinMaxScaler"
   ]
  },
  {
   "cell_type": "code",
   "execution_count": 2,
   "id": "fbf638fa-3b62-4098-b1bb-9c7abc0b31de",
   "metadata": {},
   "outputs": [],
   "source": [
    "df=pd.read_csv(\"Plane Price.csv\")\n",
    "df.head(2)\n",
    "df=df.dropna()"
   ]
  },
  {
   "cell_type": "code",
   "execution_count": 3,
   "id": "dc5c36f6-1298-4223-9408-29348603d4e4",
   "metadata": {},
   "outputs": [
    {
     "name": "stdout",
     "output_type": "stream",
     "text": [
      "<class 'pandas.core.frame.DataFrame'>\n",
      "Index: 421 entries, 0 to 516\n",
      "Data columns (total 16 columns):\n",
      " #   Column                   Non-Null Count  Dtype  \n",
      "---  ------                   --------------  -----  \n",
      " 0   Model Name               421 non-null    object \n",
      " 1   Engine Type              421 non-null    object \n",
      " 2   HP or lbs thr ea engine  421 non-null    object \n",
      " 3   Max speed Knots          421 non-null    object \n",
      " 4   Rcmnd cruise Knots       421 non-null    float64\n",
      " 5   Stall Knots dirty        421 non-null    float64\n",
      " 6   Fuel gal/lbs             421 non-null    int64  \n",
      " 7   All eng rate of climb    421 non-null    object \n",
      " 8   Eng out rate of climb    421 non-null    float64\n",
      " 9   Takeoff over 50ft        421 non-null    float64\n",
      " 10  Landing over 50ft        421 non-null    object \n",
      " 11  Empty weight lbs         421 non-null    object \n",
      " 12  Length ft/in             421 non-null    object \n",
      " 13  Wing span ft/in          421 non-null    object \n",
      " 14  Range N.M.               421 non-null    object \n",
      " 15  Price                    421 non-null    float64\n",
      "dtypes: float64(5), int64(1), object(10)\n",
      "memory usage: 55.9+ KB\n"
     ]
    }
   ],
   "source": [
    "df.info()"
   ]
  },
  {
   "cell_type": "code",
   "execution_count": 4,
   "id": "2a068e9f-8859-4d65-8535-6e247ff16814",
   "metadata": {},
   "outputs": [],
   "source": [
    "df=df[[\"Rcmnd cruise Knots\",\"Stall Knots dirty\",\"Fuel gal/lbs\",\"Eng out rate of climb\",\"Price\"]]"
   ]
  },
  {
   "cell_type": "code",
   "execution_count": 5,
   "id": "ff50f1ff-e697-4699-b4fe-3b0bd28b43e1",
   "metadata": {},
   "outputs": [
    {
     "data": {
      "text/html": [
       "<div>\n",
       "<style scoped>\n",
       "    .dataframe tbody tr th:only-of-type {\n",
       "        vertical-align: middle;\n",
       "    }\n",
       "\n",
       "    .dataframe tbody tr th {\n",
       "        vertical-align: top;\n",
       "    }\n",
       "\n",
       "    .dataframe thead th {\n",
       "        text-align: right;\n",
       "    }\n",
       "</style>\n",
       "<table border=\"1\" class=\"dataframe\">\n",
       "  <thead>\n",
       "    <tr style=\"text-align: right;\">\n",
       "      <th></th>\n",
       "      <th>Rcmnd cruise Knots</th>\n",
       "      <th>Stall Knots dirty</th>\n",
       "      <th>Fuel gal/lbs</th>\n",
       "      <th>Eng out rate of climb</th>\n",
       "      <th>Price</th>\n",
       "    </tr>\n",
       "  </thead>\n",
       "  <tbody>\n",
       "    <tr>\n",
       "      <th>0</th>\n",
       "      <td>91.0</td>\n",
       "      <td>46.0</td>\n",
       "      <td>36</td>\n",
       "      <td>900.0</td>\n",
       "      <td>1300000.0</td>\n",
       "    </tr>\n",
       "    <tr>\n",
       "      <th>1</th>\n",
       "      <td>83.0</td>\n",
       "      <td>44.0</td>\n",
       "      <td>15</td>\n",
       "      <td>720.0</td>\n",
       "      <td>1230000.0</td>\n",
       "    </tr>\n",
       "    <tr>\n",
       "      <th>2</th>\n",
       "      <td>78.0</td>\n",
       "      <td>37.0</td>\n",
       "      <td>19</td>\n",
       "      <td>475.0</td>\n",
       "      <td>1600000.0</td>\n",
       "    </tr>\n",
       "  </tbody>\n",
       "</table>\n",
       "</div>"
      ],
      "text/plain": [
       "   Rcmnd cruise Knots  Stall Knots dirty  Fuel gal/lbs  Eng out rate of climb  \\\n",
       "0                91.0               46.0            36                  900.0   \n",
       "1                83.0               44.0            15                  720.0   \n",
       "2                78.0               37.0            19                  475.0   \n",
       "\n",
       "       Price  \n",
       "0  1300000.0  \n",
       "1  1230000.0  \n",
       "2  1600000.0  "
      ]
     },
     "execution_count": 5,
     "metadata": {},
     "output_type": "execute_result"
    }
   ],
   "source": [
    "df.head(3)"
   ]
  },
  {
   "cell_type": "code",
   "execution_count": 6,
   "id": "46f47d6e-4854-4fbc-98ac-8002208d9436",
   "metadata": {},
   "outputs": [],
   "source": [
    "y=df[\"Price\"]\n",
    "x=df.drop([\"Price\"],axis=1)\n",
    "# y için normalizasyon yapılmaz\n",
    "#outlier etkisini azltır (aykırı değerleri düzeltir) \n",
    "#model performansı artat"
   ]
  },
  {
   "cell_type": "code",
   "execution_count": 12,
   "id": "a6d3ae27-c61f-47ea-a573-cb6352357ade",
   "metadata": {},
   "outputs": [
    {
     "data": {
      "text/html": [
       "<div>\n",
       "<style scoped>\n",
       "    .dataframe tbody tr th:only-of-type {\n",
       "        vertical-align: middle;\n",
       "    }\n",
       "\n",
       "    .dataframe tbody tr th {\n",
       "        vertical-align: top;\n",
       "    }\n",
       "\n",
       "    .dataframe thead th {\n",
       "        text-align: right;\n",
       "    }\n",
       "</style>\n",
       "<table border=\"1\" class=\"dataframe\">\n",
       "  <thead>\n",
       "    <tr style=\"text-align: right;\">\n",
       "      <th></th>\n",
       "      <th>0</th>\n",
       "      <th>1</th>\n",
       "      <th>2</th>\n",
       "      <th>3</th>\n",
       "    </tr>\n",
       "  </thead>\n",
       "  <tbody>\n",
       "    <tr>\n",
       "      <th>0</th>\n",
       "      <td>-1.045548</td>\n",
       "      <td>-0.910775</td>\n",
       "      <td>-0.280355</td>\n",
       "      <td>-1.015012</td>\n",
       "    </tr>\n",
       "    <tr>\n",
       "      <th>1</th>\n",
       "      <td>-1.126372</td>\n",
       "      <td>-1.035116</td>\n",
       "      <td>-0.285673</td>\n",
       "      <td>-1.184347</td>\n",
       "    </tr>\n",
       "    <tr>\n",
       "      <th>2</th>\n",
       "      <td>-1.176886</td>\n",
       "      <td>-1.470309</td>\n",
       "      <td>-0.284660</td>\n",
       "      <td>-1.414831</td>\n",
       "    </tr>\n",
       "  </tbody>\n",
       "</table>\n",
       "</div>"
      ],
      "text/plain": [
       "          0         1         2         3\n",
       "0 -1.045548 -0.910775 -0.280355 -1.015012\n",
       "1 -1.126372 -1.035116 -0.285673 -1.184347\n",
       "2 -1.176886 -1.470309 -0.284660 -1.414831"
      ]
     },
     "execution_count": 12,
     "metadata": {},
     "output_type": "execute_result"
    }
   ],
   "source": [
    "ss=StandardScaler() #standart sapmayı 1 haline getiren bir model\n",
    "x2=ss.fit_transform(x)\n",
    "x2=pd.DataFrame(x2)\n",
    "x2.head(3)"
   ]
  },
  {
   "cell_type": "code",
   "execution_count": 13,
   "id": "f2caa2b7-528b-4fd4-9985-6abf5392cdf1",
   "metadata": {},
   "outputs": [
    {
     "data": {
      "text/plain": [
       "1.0011897684160351"
      ]
     },
     "execution_count": 13,
     "metadata": {},
     "output_type": "execute_result"
    }
   ],
   "source": [
    "x2[0].std()"
   ]
  },
  {
   "cell_type": "code",
   "execution_count": 15,
   "id": "05e85431-c030-43e4-ba34-2998f0edbe6f",
   "metadata": {},
   "outputs": [
    {
     "data": {
      "text/plain": [
       "1.181424976323207e-16"
      ]
     },
     "execution_count": 15,
     "metadata": {},
     "output_type": "execute_result"
    }
   ],
   "source": [
    "x2[0].mean()"
   ]
  },
  {
   "cell_type": "code",
   "execution_count": 16,
   "id": "4141f891-c183-4d95-ba6d-7f685c04adae",
   "metadata": {},
   "outputs": [],
   "source": [
    "mm=MinMaxScaler() # modeli sıfır ile bir arasına getirtiyor\n",
    "x3=mm.fit_transform(x)"
   ]
  },
  {
   "cell_type": "code",
   "execution_count": 17,
   "id": "4eb4ed6d-efcd-4c30-a503-770ea1c50c52",
   "metadata": {},
   "outputs": [
    {
     "data": {
      "text/html": [
       "<div>\n",
       "<style scoped>\n",
       "    .dataframe tbody tr th:only-of-type {\n",
       "        vertical-align: middle;\n",
       "    }\n",
       "\n",
       "    .dataframe tbody tr th {\n",
       "        vertical-align: top;\n",
       "    }\n",
       "\n",
       "    .dataframe thead th {\n",
       "        text-align: right;\n",
       "    }\n",
       "</style>\n",
       "<table border=\"1\" class=\"dataframe\">\n",
       "  <thead>\n",
       "    <tr style=\"text-align: right;\">\n",
       "      <th></th>\n",
       "      <th>0</th>\n",
       "      <th>1</th>\n",
       "      <th>2</th>\n",
       "      <th>3</th>\n",
       "    </tr>\n",
       "  </thead>\n",
       "  <tbody>\n",
       "    <tr>\n",
       "      <th>0</th>\n",
       "      <td>0.051724</td>\n",
       "      <td>0.215909</td>\n",
       "      <td>0.000746</td>\n",
       "      <td>0.074541</td>\n",
       "    </tr>\n",
       "    <tr>\n",
       "      <th>1</th>\n",
       "      <td>0.032020</td>\n",
       "      <td>0.193182</td>\n",
       "      <td>0.000034</td>\n",
       "      <td>0.044254</td>\n",
       "    </tr>\n",
       "  </tbody>\n",
       "</table>\n",
       "</div>"
      ],
      "text/plain": [
       "          0         1         2         3\n",
       "0  0.051724  0.215909  0.000746  0.074541\n",
       "1  0.032020  0.193182  0.000034  0.044254"
      ]
     },
     "execution_count": 17,
     "metadata": {},
     "output_type": "execute_result"
    }
   ],
   "source": [
    "x3=pd.DataFrame(x3)\n",
    "x3.head(2)"
   ]
  },
  {
   "cell_type": "code",
   "execution_count": 19,
   "id": "e881ac97-e4f4-4267-9ffa-9959e134e9b0",
   "metadata": {},
   "outputs": [
    {
     "data": {
      "text/plain": [
       "1.0"
      ]
     },
     "execution_count": 19,
     "metadata": {},
     "output_type": "execute_result"
    }
   ],
   "source": [
    "x3[0].max()"
   ]
  },
  {
   "cell_type": "code",
   "execution_count": 20,
   "id": "9446a03a-59aa-4bce-9e5b-fa00d2902609",
   "metadata": {},
   "outputs": [
    {
     "data": {
      "text/plain": [
       "0.0"
      ]
     },
     "execution_count": 20,
     "metadata": {},
     "output_type": "execute_result"
    }
   ],
   "source": [
    "x3[1].min()"
   ]
  },
  {
   "cell_type": "code",
   "execution_count": 21,
   "id": "681a0b05-30d2-496f-8215-fbd01de8d8c2",
   "metadata": {},
   "outputs": [],
   "source": [
    "mm2=MinMaxScaler(feature_range=(0,10)) #feature_range değerleri hangi aralıkğa getirmemizi belirliyoruz\n",
    "x4=mm2.fit_transform(x)"
   ]
  },
  {
   "cell_type": "code",
   "execution_count": 24,
   "id": "68f3adaf-8bdc-4b18-b54b-e8741662f089",
   "metadata": {},
   "outputs": [
    {
     "data": {
      "text/html": [
       "<div>\n",
       "<style scoped>\n",
       "    .dataframe tbody tr th:only-of-type {\n",
       "        vertical-align: middle;\n",
       "    }\n",
       "\n",
       "    .dataframe tbody tr th {\n",
       "        vertical-align: top;\n",
       "    }\n",
       "\n",
       "    .dataframe thead th {\n",
       "        text-align: right;\n",
       "    }\n",
       "</style>\n",
       "<table border=\"1\" class=\"dataframe\">\n",
       "  <thead>\n",
       "    <tr style=\"text-align: right;\">\n",
       "      <th></th>\n",
       "      <th>0</th>\n",
       "      <th>1</th>\n",
       "      <th>2</th>\n",
       "      <th>3</th>\n",
       "    </tr>\n",
       "  </thead>\n",
       "  <tbody>\n",
       "    <tr>\n",
       "      <th>0</th>\n",
       "      <td>0.517241</td>\n",
       "      <td>2.159091</td>\n",
       "      <td>0.007461</td>\n",
       "      <td>0.745415</td>\n",
       "    </tr>\n",
       "    <tr>\n",
       "      <th>1</th>\n",
       "      <td>0.320197</td>\n",
       "      <td>1.931818</td>\n",
       "      <td>0.000339</td>\n",
       "      <td>0.442537</td>\n",
       "    </tr>\n",
       "  </tbody>\n",
       "</table>\n",
       "</div>"
      ],
      "text/plain": [
       "          0         1         2         3\n",
       "0  0.517241  2.159091  0.007461  0.745415\n",
       "1  0.320197  1.931818  0.000339  0.442537"
      ]
     },
     "execution_count": 24,
     "metadata": {},
     "output_type": "execute_result"
    }
   ],
   "source": [
    "x4=pd.DataFrame(x4)\n",
    "x4.head(2)"
   ]
  },
  {
   "cell_type": "code",
   "execution_count": 25,
   "id": "2ee47661-c03c-4549-80d0-c8c248a46139",
   "metadata": {},
   "outputs": [
    {
     "data": {
      "text/plain": [
       "0    0.0\n",
       "1    0.0\n",
       "2    0.0\n",
       "3    0.0\n",
       "dtype: float64"
      ]
     },
     "execution_count": 25,
     "metadata": {},
     "output_type": "execute_result"
    }
   ],
   "source": [
    "x4.min()"
   ]
  },
  {
   "cell_type": "code",
   "execution_count": 26,
   "id": "f6d665f8-ea27-4bf8-9aaf-6d31f99241e4",
   "metadata": {},
   "outputs": [
    {
     "data": {
      "text/plain": [
       "0    10.0\n",
       "1    10.0\n",
       "2    10.0\n",
       "3    10.0\n",
       "dtype: float64"
      ]
     },
     "execution_count": 26,
     "metadata": {},
     "output_type": "execute_result"
    }
   ],
   "source": [
    "x4.max()"
   ]
  },
  {
   "cell_type": "code",
   "execution_count": null,
   "id": "5b58ffff-08d3-4c79-94a0-e9d15baa5efb",
   "metadata": {},
   "outputs": [],
   "source": []
  }
 ],
 "metadata": {
  "kernelspec": {
   "display_name": "Python 3 (ipykernel)",
   "language": "python",
   "name": "python3"
  },
  "language_info": {
   "codemirror_mode": {
    "name": "ipython",
    "version": 3
   },
   "file_extension": ".py",
   "mimetype": "text/x-python",
   "name": "python",
   "nbconvert_exporter": "python",
   "pygments_lexer": "ipython3",
   "version": "3.12.7"
  }
 },
 "nbformat": 4,
 "nbformat_minor": 5
}
