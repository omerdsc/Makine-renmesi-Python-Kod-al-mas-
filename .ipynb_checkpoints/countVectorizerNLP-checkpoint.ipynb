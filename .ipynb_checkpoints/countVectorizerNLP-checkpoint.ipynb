{
 "cells": [
  {
   "cell_type": "code",
   "execution_count": 1,
   "id": "ecb9be5f-66dd-4cbe-a0ca-ccd45b2f88ec",
   "metadata": {},
   "outputs": [],
   "source": [
    "import pandas as pd\n",
    "import numpy as np\n",
    "from sklearn.feature_extraction.text import CountVectorizer"
   ]
  },
  {
   "cell_type": "code",
   "execution_count": 2,
   "id": "e061dc62-d287-4ea9-98db-932e47f4d029",
   "metadata": {},
   "outputs": [],
   "source": [
    "df=pd.DataFrame()"
   ]
  },
  {
   "cell_type": "code",
   "execution_count": 3,
   "id": "c1d36c9d-8fd0-4428-b430-9f8b595743e1",
   "metadata": {},
   "outputs": [],
   "source": [
    "df[\"cumleler\"]=[\"ali bak\",\"ali ata bak\",\"bak ali bak\",\"ali güzel ata bak\",\"ışık ılık süt iç\",\"ışık süt iç\",\"iç ışık iç\"]"
   ]
  },
  {
   "cell_type": "code",
   "execution_count": 4,
   "id": "ddedeb18-864f-4e25-a01f-89279de81a79",
   "metadata": {},
   "outputs": [],
   "source": [
    "cv=CountVectorizer(max_features=4) # max_features kaç ane özellik olucağını söyler, gereksiz özellikleri atar\n",
    "# kelimeyi alıp arraya çeviryior ve öenm derecesine göre sıralıyor"
   ]
  },
  {
   "cell_type": "code",
   "execution_count": 5,
   "id": "9b64ead2-c367-421f-b2fd-477893d38ab1",
   "metadata": {},
   "outputs": [],
   "source": [
    "a=cv.fit_transform(df[\"cumleler\"])"
   ]
  },
  {
   "cell_type": "code",
   "execution_count": 6,
   "id": "400fd40a-f657-4ccf-9e28-226065ec248a",
   "metadata": {},
   "outputs": [],
   "source": [
    "x=a.toarray() #array çecirilen datafremi gösterir"
   ]
  },
  {
   "cell_type": "code",
   "execution_count": 8,
   "id": "6b06ff84-c10d-4026-9afc-202ba7100622",
   "metadata": {},
   "outputs": [
    {
     "data": {
      "text/plain": [
       "array(['ali', 'bak', 'iç', 'ışık'], dtype=object)"
      ]
     },
     "execution_count": 8,
     "metadata": {},
     "output_type": "execute_result"
    }
   ],
   "source": [
    "cv.get_feature_names_out() #önemli kelimeleri bize gösterir"
   ]
  },
  {
   "cell_type": "code",
   "execution_count": null,
   "id": "f7de98c5-90b8-4487-9594-bc77271c9dc6",
   "metadata": {},
   "outputs": [],
   "source": [
    "# stop wods : doğası gereği çok kullanılan kelimeler. ne mesela fakat gibi kelimeler yoğun kkllanılır ama önemsiz kelimelerdir\n",
    "# böyle cüleler varsa kaldırmamız gerekiyor"
   ]
  }
 ],
 "metadata": {
  "kernelspec": {
   "display_name": "Python 3 (ipykernel)",
   "language": "python",
   "name": "python3"
  },
  "language_info": {
   "codemirror_mode": {
    "name": "ipython",
    "version": 3
   },
   "file_extension": ".py",
   "mimetype": "text/x-python",
   "name": "python",
   "nbconvert_exporter": "python",
   "pygments_lexer": "ipython3",
   "version": "3.12.7"
  }
 },
 "nbformat": 4,
 "nbformat_minor": 5
}
