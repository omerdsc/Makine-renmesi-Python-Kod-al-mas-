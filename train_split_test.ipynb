{
 "cells": [
  {
   "cell_type": "code",
   "execution_count": 51,
   "id": "a939485d-c481-4330-b6f1-1a75a2c5368f",
   "metadata": {},
   "outputs": [],
   "source": [
    "import pandas as pd\n",
    "from sklearn.linear_model import LinearRegression\n",
    "from sklearn.model_selection import train_test_split"
   ]
  },
  {
   "cell_type": "code",
   "execution_count": 5,
   "id": "a046e659-eac8-4bc9-bc8e-51f093e90b9f",
   "metadata": {},
   "outputs": [
    {
     "data": {
      "text/html": [
       "<div>\n",
       "<style scoped>\n",
       "    .dataframe tbody tr th:only-of-type {\n",
       "        vertical-align: middle;\n",
       "    }\n",
       "\n",
       "    .dataframe tbody tr th {\n",
       "        vertical-align: top;\n",
       "    }\n",
       "\n",
       "    .dataframe thead th {\n",
       "        text-align: right;\n",
       "    }\n",
       "</style>\n",
       "<table border=\"1\" class=\"dataframe\">\n",
       "  <thead>\n",
       "    <tr style=\"text-align: right;\">\n",
       "      <th></th>\n",
       "      <th>index</th>\n",
       "      <th>Year</th>\n",
       "      <th>Type</th>\n",
       "      <th>Mileage(miles)</th>\n",
       "      <th>Engine</th>\n",
       "      <th>PS</th>\n",
       "      <th>Transmission</th>\n",
       "      <th>Fuel</th>\n",
       "      <th>Number_of_Owners</th>\n",
       "      <th>Price(£)</th>\n",
       "      <th>href</th>\n",
       "      <th>PPY</th>\n",
       "      <th>MileageRank</th>\n",
       "      <th>PriceRank</th>\n",
       "      <th>PPYRank</th>\n",
       "      <th>Score</th>\n",
       "    </tr>\n",
       "  </thead>\n",
       "  <tbody>\n",
       "    <tr>\n",
       "      <th>0</th>\n",
       "      <td>0</td>\n",
       "      <td>2018.0</td>\n",
       "      <td>Hatchback</td>\n",
       "      <td>44000.0</td>\n",
       "      <td>1.6L</td>\n",
       "      <td>114.398422</td>\n",
       "      <td>Manual</td>\n",
       "      <td>Diesel</td>\n",
       "      <td>1</td>\n",
       "      <td>14995.0</td>\n",
       "      <td>https://www.autotrader.co.uk/car-details/20221...</td>\n",
       "      <td>2499.166667</td>\n",
       "      <td>215</td>\n",
       "      <td>163</td>\n",
       "      <td>340</td>\n",
       "      <td>718</td>\n",
       "    </tr>\n",
       "    <tr>\n",
       "      <th>1</th>\n",
       "      <td>4</td>\n",
       "      <td>2016.0</td>\n",
       "      <td>Hatchback</td>\n",
       "      <td>42596.0</td>\n",
       "      <td>1.0L</td>\n",
       "      <td>93.688363</td>\n",
       "      <td>Manual</td>\n",
       "      <td>Petrol</td>\n",
       "      <td>3</td>\n",
       "      <td>10755.0</td>\n",
       "      <td>https://www.autotrader.co.uk/car-details/20221...</td>\n",
       "      <td>2688.750000</td>\n",
       "      <td>222</td>\n",
       "      <td>330</td>\n",
       "      <td>276</td>\n",
       "      <td>828</td>\n",
       "    </tr>\n",
       "  </tbody>\n",
       "</table>\n",
       "</div>"
      ],
      "text/plain": [
       "   index    Year       Type  Mileage(miles) Engine          PS Transmission  \\\n",
       "0      0  2018.0  Hatchback         44000.0   1.6L  114.398422       Manual   \n",
       "1      4  2016.0  Hatchback         42596.0   1.0L   93.688363       Manual   \n",
       "\n",
       "     Fuel  Number_of_Owners  Price(£)  \\\n",
       "0  Diesel                 1   14995.0   \n",
       "1  Petrol                 3   10755.0   \n",
       "\n",
       "                                                href          PPY  \\\n",
       "0  https://www.autotrader.co.uk/car-details/20221...  2499.166667   \n",
       "1  https://www.autotrader.co.uk/car-details/20221...  2688.750000   \n",
       "\n",
       "   MileageRank  PriceRank  PPYRank  Score  \n",
       "0          215        163      340    718  \n",
       "1          222        330      276    828  "
      ]
     },
     "execution_count": 5,
     "metadata": {},
     "output_type": "execute_result"
    }
   ],
   "source": [
    "df=pd.read_csv(\"Audi_A1_listings.csv\")\n",
    "df.head(2)"
   ]
  },
  {
   "cell_type": "code",
   "execution_count": 7,
   "id": "5bc3cf54-b554-4077-be99-9f728459a00e",
   "metadata": {},
   "outputs": [],
   "source": [
    "df=df[[\"Year\",\"Type\",\"Mileage(miles)\",\"Engine\",\"PS\",\"Transmission\",\"Fuel\",\"Number_of_Owners\",\"Price(£)\"]]"
   ]
  },
  {
   "cell_type": "code",
   "execution_count": 9,
   "id": "5de4ed8d-38b2-465e-bb06-687ffe896fa3",
   "metadata": {},
   "outputs": [
    {
     "data": {
      "text/html": [
       "<div>\n",
       "<style scoped>\n",
       "    .dataframe tbody tr th:only-of-type {\n",
       "        vertical-align: middle;\n",
       "    }\n",
       "\n",
       "    .dataframe tbody tr th {\n",
       "        vertical-align: top;\n",
       "    }\n",
       "\n",
       "    .dataframe thead th {\n",
       "        text-align: right;\n",
       "    }\n",
       "</style>\n",
       "<table border=\"1\" class=\"dataframe\">\n",
       "  <thead>\n",
       "    <tr style=\"text-align: right;\">\n",
       "      <th></th>\n",
       "      <th>Year</th>\n",
       "      <th>Type</th>\n",
       "      <th>Mileage(miles)</th>\n",
       "      <th>Engine</th>\n",
       "      <th>PS</th>\n",
       "      <th>Transmission</th>\n",
       "      <th>Fuel</th>\n",
       "      <th>Number_of_Owners</th>\n",
       "      <th>Price(£)</th>\n",
       "    </tr>\n",
       "  </thead>\n",
       "  <tbody>\n",
       "    <tr>\n",
       "      <th>0</th>\n",
       "      <td>2018.0</td>\n",
       "      <td>Hatchback</td>\n",
       "      <td>44000.0</td>\n",
       "      <td>1.6L</td>\n",
       "      <td>114.398422</td>\n",
       "      <td>Manual</td>\n",
       "      <td>Diesel</td>\n",
       "      <td>1</td>\n",
       "      <td>14995.0</td>\n",
       "    </tr>\n",
       "    <tr>\n",
       "      <th>1</th>\n",
       "      <td>2016.0</td>\n",
       "      <td>Hatchback</td>\n",
       "      <td>42596.0</td>\n",
       "      <td>1.0L</td>\n",
       "      <td>93.688363</td>\n",
       "      <td>Manual</td>\n",
       "      <td>Petrol</td>\n",
       "      <td>3</td>\n",
       "      <td>10755.0</td>\n",
       "    </tr>\n",
       "  </tbody>\n",
       "</table>\n",
       "</div>"
      ],
      "text/plain": [
       "     Year       Type  Mileage(miles) Engine          PS Transmission    Fuel  \\\n",
       "0  2018.0  Hatchback         44000.0   1.6L  114.398422       Manual  Diesel   \n",
       "1  2016.0  Hatchback         42596.0   1.0L   93.688363       Manual  Petrol   \n",
       "\n",
       "   Number_of_Owners  Price(£)  \n",
       "0                 1   14995.0  \n",
       "1                 3   10755.0  "
      ]
     },
     "execution_count": 9,
     "metadata": {},
     "output_type": "execute_result"
    }
   ],
   "source": [
    "df.head(2)"
   ]
  },
  {
   "cell_type": "code",
   "execution_count": 13,
   "id": "e2a2a848-7730-449f-b0b5-486ec4fd97e0",
   "metadata": {},
   "outputs": [],
   "source": [
    "df.columns=[\"yil\",\"tip\",\"mil\",\"motor\",\"ps\",\"vites\",\"yakit\",\"sahip\",\"fiyat\"]"
   ]
  },
  {
   "cell_type": "code",
   "execution_count": 23,
   "id": "420de551-8c71-4e07-b0ee-33986a9a2f39",
   "metadata": {},
   "outputs": [
    {
     "name": "stderr",
     "output_type": "stream",
     "text": [
      "C:\\Users\\omer_\\AppData\\Local\\Temp\\ipykernel_16332\\2377611242.py:1: SettingWithCopyWarning: \n",
      "A value is trying to be set on a copy of a slice from a DataFrame.\n",
      "Try using .loc[row_indexer,col_indexer] = value instead\n",
      "\n",
      "See the caveats in the documentation: https://pandas.pydata.org/pandas-docs/stable/user_guide/indexing.html#returning-a-view-versus-a-copy\n",
      "  df[\"motor\"]=df[\"motor\"].str.replace(\"L\",\"\")\n",
      "C:\\Users\\omer_\\AppData\\Local\\Temp\\ipykernel_16332\\2377611242.py:2: SettingWithCopyWarning: \n",
      "A value is trying to be set on a copy of a slice from a DataFrame.\n",
      "Try using .loc[row_indexer,col_indexer] = value instead\n",
      "\n",
      "See the caveats in the documentation: https://pandas.pydata.org/pandas-docs/stable/user_guide/indexing.html#returning-a-view-versus-a-copy\n",
      "  df[\"motor\"]=pd.to_numeric(df[\"motor\"])\n"
     ]
    }
   ],
   "source": [
    "df[\"motor\"]=df[\"motor\"].str.replace(\"L\",\"\")\n",
    "df[\"motor\"]=pd.to_numeric(df[\"motor\"])"
   ]
  },
  {
   "cell_type": "code",
   "execution_count": 39,
   "id": "e5ec5757-c528-4bb8-b7a2-747d7049e25c",
   "metadata": {},
   "outputs": [],
   "source": [
    "df=pd.get_dummies(df,columns=[\"tip\",\"vites\",\"yakit\"],drop_first=True).astype(int)"
   ]
  },
  {
   "cell_type": "code",
   "execution_count": 41,
   "id": "c70d56ed-8f07-493c-93f2-e294df2fa797",
   "metadata": {},
   "outputs": [],
   "source": [
    "y=df[\"fiyat\"]\n",
    "x=df.drop([\"fiyat\"],axis=1)"
   ]
  },
  {
   "cell_type": "code",
   "execution_count": 43,
   "id": "8173ee8c-312a-48c6-994e-bd34873da0d3",
   "metadata": {},
   "outputs": [
    {
     "data": {
      "text/html": [
       "<div>\n",
       "<style scoped>\n",
       "    .dataframe tbody tr th:only-of-type {\n",
       "        vertical-align: middle;\n",
       "    }\n",
       "\n",
       "    .dataframe tbody tr th {\n",
       "        vertical-align: top;\n",
       "    }\n",
       "\n",
       "    .dataframe thead th {\n",
       "        text-align: right;\n",
       "    }\n",
       "</style>\n",
       "<table border=\"1\" class=\"dataframe\">\n",
       "  <thead>\n",
       "    <tr style=\"text-align: right;\">\n",
       "      <th></th>\n",
       "      <th>yil</th>\n",
       "      <th>mil</th>\n",
       "      <th>motor</th>\n",
       "      <th>ps</th>\n",
       "      <th>sahip</th>\n",
       "      <th>fiyat</th>\n",
       "      <th>vites_Manual</th>\n",
       "      <th>yakit_Petrol</th>\n",
       "    </tr>\n",
       "  </thead>\n",
       "  <tbody>\n",
       "    <tr>\n",
       "      <th>0</th>\n",
       "      <td>2018</td>\n",
       "      <td>44000</td>\n",
       "      <td>1</td>\n",
       "      <td>114</td>\n",
       "      <td>1</td>\n",
       "      <td>14995</td>\n",
       "      <td>1</td>\n",
       "      <td>0</td>\n",
       "    </tr>\n",
       "    <tr>\n",
       "      <th>1</th>\n",
       "      <td>2016</td>\n",
       "      <td>42596</td>\n",
       "      <td>1</td>\n",
       "      <td>93</td>\n",
       "      <td>3</td>\n",
       "      <td>10755</td>\n",
       "      <td>1</td>\n",
       "      <td>1</td>\n",
       "    </tr>\n",
       "    <tr>\n",
       "      <th>2</th>\n",
       "      <td>2015</td>\n",
       "      <td>42700</td>\n",
       "      <td>1</td>\n",
       "      <td>123</td>\n",
       "      <td>2</td>\n",
       "      <td>10799</td>\n",
       "      <td>1</td>\n",
       "      <td>1</td>\n",
       "    </tr>\n",
       "    <tr>\n",
       "      <th>3</th>\n",
       "      <td>2014</td>\n",
       "      <td>86000</td>\n",
       "      <td>1</td>\n",
       "      <td>103</td>\n",
       "      <td>3</td>\n",
       "      <td>7490</td>\n",
       "      <td>1</td>\n",
       "      <td>0</td>\n",
       "    </tr>\n",
       "    <tr>\n",
       "      <th>4</th>\n",
       "      <td>2014</td>\n",
       "      <td>104310</td>\n",
       "      <td>1</td>\n",
       "      <td>103</td>\n",
       "      <td>3</td>\n",
       "      <td>7400</td>\n",
       "      <td>1</td>\n",
       "      <td>0</td>\n",
       "    </tr>\n",
       "  </tbody>\n",
       "</table>\n",
       "</div>"
      ],
      "text/plain": [
       "    yil     mil  motor   ps  sahip  fiyat  vites_Manual  yakit_Petrol\n",
       "0  2018   44000      1  114      1  14995             1             0\n",
       "1  2016   42596      1   93      3  10755             1             1\n",
       "2  2015   42700      1  123      2  10799             1             1\n",
       "3  2014   86000      1  103      3   7490             1             0\n",
       "4  2014  104310      1  103      3   7400             1             0"
      ]
     },
     "execution_count": 43,
     "metadata": {},
     "output_type": "execute_result"
    }
   ],
   "source": [
    "df.head()"
   ]
  },
  {
   "cell_type": "code",
   "execution_count": 53,
   "id": "9107aab7-750f-4e0f-a4ad-be5b8a0b45d5",
   "metadata": {},
   "outputs": [],
   "source": [
    "x_train,x_test,y_train,y_test=train_test_split(x,y,train_size=0.70,random_state=21)\n",
    "#train_size=yüzde kaçı verilecek öğrenmeye\n",
    "#random_state=bir sabit veriyoruz ve bu sabit her zaman aynı değeri veriyor"
   ]
  },
  {
   "cell_type": "code",
   "execution_count": 59,
   "id": "85b96adc-2f2b-464c-83f8-56fa4d2d2903",
   "metadata": {},
   "outputs": [
    {
     "data": {
      "text/plain": [
       "0.8947902193322722"
      ]
     },
     "execution_count": 59,
     "metadata": {},
     "output_type": "execute_result"
    }
   ],
   "source": [
    "lm=LinearRegression()\n",
    "model=lm.fit(x_train,y_train)\n",
    "model.score(x_test,y_test)"
   ]
  },
  {
   "cell_type": "code",
   "execution_count": 61,
   "id": "b6d13ec4-0958-433b-9321-d49604b98bbe",
   "metadata": {},
   "outputs": [
    {
     "name": "stderr",
     "output_type": "stream",
     "text": [
      "C:\\Users\\omer_\\anaconda3\\Lib\\site-packages\\sklearn\\base.py:493: UserWarning: X does not have valid feature names, but LinearRegression was fitted with feature names\n",
      "  warnings.warn(\n"
     ]
    },
    {
     "data": {
      "text/plain": [
       "array([14248.1101435])"
      ]
     },
     "execution_count": 61,
     "metadata": {},
     "output_type": "execute_result"
    }
   ],
   "source": [
    "model.predict([[2016,3500,1,110,1,1,0]])"
   ]
  },
  {
   "cell_type": "code",
   "execution_count": null,
   "id": "61a4c149-502d-4983-a95f-122718c43e49",
   "metadata": {},
   "outputs": [],
   "source": []
  }
 ],
 "metadata": {
  "kernelspec": {
   "display_name": "Python 3 (ipykernel)",
   "language": "python",
   "name": "python3"
  },
  "language_info": {
   "codemirror_mode": {
    "name": "ipython",
    "version": 3
   },
   "file_extension": ".py",
   "mimetype": "text/x-python",
   "name": "python",
   "nbconvert_exporter": "python",
   "pygments_lexer": "ipython3",
   "version": "3.12.7"
  }
 },
 "nbformat": 4,
 "nbformat_minor": 5
}
