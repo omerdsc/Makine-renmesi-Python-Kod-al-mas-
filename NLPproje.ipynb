{
 "cells": [
  {
   "cell_type": "code",
   "execution_count": 1,
   "id": "a95b01c5-76c6-420d-8eec-c0617cf5c32b",
   "metadata": {},
   "outputs": [],
   "source": [
    "import pandas as pd\n",
    "import numpy as np\n",
    "from sklearn.feature_extraction.text import CountVectorizer\n",
    "from sklearn.ensemble import RandomForestClassifier\n",
    "from sklearn.model_selection import train_test_split"
   ]
  },
  {
   "cell_type": "code",
   "execution_count": 2,
   "id": "abbe8069-72eb-43fc-b003-70110f395da1",
   "metadata": {},
   "outputs": [
    {
     "data": {
      "text/html": [
       "<div>\n",
       "<style scoped>\n",
       "    .dataframe tbody tr th:only-of-type {\n",
       "        vertical-align: middle;\n",
       "    }\n",
       "\n",
       "    .dataframe tbody tr th {\n",
       "        vertical-align: top;\n",
       "    }\n",
       "\n",
       "    .dataframe thead th {\n",
       "        text-align: right;\n",
       "    }\n",
       "</style>\n",
       "<table border=\"1\" class=\"dataframe\">\n",
       "  <thead>\n",
       "    <tr style=\"text-align: right;\">\n",
       "      <th></th>\n",
       "      <th>Unnamed: 0</th>\n",
       "      <th>sorgu</th>\n",
       "      <th>label</th>\n",
       "      <th>le</th>\n",
       "    </tr>\n",
       "  </thead>\n",
       "  <tbody>\n",
       "    <tr>\n",
       "      <th>0</th>\n",
       "      <td>0</td>\n",
       "      <td>kredi kartımı kaybettim</td>\n",
       "      <td>kartkayip</td>\n",
       "      <td>1</td>\n",
       "    </tr>\n",
       "    <tr>\n",
       "      <th>1</th>\n",
       "      <td>1</td>\n",
       "      <td>banka kartımı kaybettim</td>\n",
       "      <td>kartkayip</td>\n",
       "      <td>1</td>\n",
       "    </tr>\n",
       "    <tr>\n",
       "      <th>2</th>\n",
       "      <td>2</td>\n",
       "      <td>kredi kartımı bulamıyorum</td>\n",
       "      <td>kartkayip</td>\n",
       "      <td>1</td>\n",
       "    </tr>\n",
       "  </tbody>\n",
       "</table>\n",
       "</div>"
      ],
      "text/plain": [
       "   Unnamed: 0                      sorgu      label  le\n",
       "0           0    kredi kartımı kaybettim  kartkayip   1\n",
       "1           1    banka kartımı kaybettim  kartkayip   1\n",
       "2           2  kredi kartımı bulamıyorum  kartkayip   1"
      ]
     },
     "execution_count": 2,
     "metadata": {},
     "output_type": "execute_result"
    }
   ],
   "source": [
    "df=pd.read_csv(\"banka.csv\")\n",
    "df.head(3)"
   ]
  },
  {
   "cell_type": "code",
   "execution_count": 3,
   "id": "3871f32b-c1b9-4202-82c8-db1c713c31ea",
   "metadata": {},
   "outputs": [
    {
     "data": {
      "text/html": [
       "<div>\n",
       "<style scoped>\n",
       "    .dataframe tbody tr th:only-of-type {\n",
       "        vertical-align: middle;\n",
       "    }\n",
       "\n",
       "    .dataframe tbody tr th {\n",
       "        vertical-align: top;\n",
       "    }\n",
       "\n",
       "    .dataframe thead th {\n",
       "        text-align: right;\n",
       "    }\n",
       "</style>\n",
       "<table border=\"1\" class=\"dataframe\">\n",
       "  <thead>\n",
       "    <tr style=\"text-align: right;\">\n",
       "      <th></th>\n",
       "      <th>sorgu</th>\n",
       "      <th>label</th>\n",
       "    </tr>\n",
       "  </thead>\n",
       "  <tbody>\n",
       "    <tr>\n",
       "      <th>0</th>\n",
       "      <td>kredi kartımı kaybettim</td>\n",
       "      <td>kartkayip</td>\n",
       "    </tr>\n",
       "    <tr>\n",
       "      <th>1</th>\n",
       "      <td>banka kartımı kaybettim</td>\n",
       "      <td>kartkayip</td>\n",
       "    </tr>\n",
       "    <tr>\n",
       "      <th>2</th>\n",
       "      <td>kredi kartımı bulamıyorum</td>\n",
       "      <td>kartkayip</td>\n",
       "    </tr>\n",
       "  </tbody>\n",
       "</table>\n",
       "</div>"
      ],
      "text/plain": [
       "                       sorgu      label\n",
       "0    kredi kartımı kaybettim  kartkayip\n",
       "1    banka kartımı kaybettim  kartkayip\n",
       "2  kredi kartımı bulamıyorum  kartkayip"
      ]
     },
     "execution_count": 3,
     "metadata": {},
     "output_type": "execute_result"
    }
   ],
   "source": [
    "df=df[[\"sorgu\",\"label\"]] #küçük harfe çevrilmesi lazım, noktalama işaretlerini kaldırmmız lazım,stop word yapmamız lazım\n",
    "df.head(3)\n"
   ]
  },
  {
   "cell_type": "code",
   "execution_count": 8,
   "id": "f778a9b6-af87-4b5e-a479-a8212fd1d4ab",
   "metadata": {},
   "outputs": [
    {
     "name": "stdin",
     "output_type": "stream",
     "text": [
      "Yapmak İstediniz İşlemi Giriniz. kredi kartımı kaybettim\n"
     ]
    },
    {
     "name": "stdout",
     "output_type": "stream",
     "text": [
      "Sonuc: ['kartkayip'] Skor: 1.0\n"
     ]
    }
   ],
   "source": [
    "df=pd.read_csv('banka.csv')\n",
    "df=df[['sorgu','label']]\n",
    "stopwords=['fakat','lakin','ancak','acaba', 'ama', 'aslında', 'az', 'bazı', 'belki', 'biri', 'birkaç', 'birşey', 'biz', 'bu', 'çok', 'çünkü', 'da', 'daha', 'de', 'defa', 'diye', 'eğer', 'en', 'gibi', 'hem', 'hep', 'hepsi', 'her', 'hiç', 'için', 'ile', 'ise', 'kez', 'ki', 'kim', 'mı', 'mu', 'mü', 'nasıl', 'ne', 'neden', 'nerde', 'nerede', 'nereye', 'niçin', 'niye', 'o', 'sanki', 'şey', 'siz', 'şu', 'tüm', 've', 'veya', 'ya', 'yani']\n",
    "\n",
    "mesaj=input(\"Yapmak İstediniz İşlemi Giriniz.\")\n",
    "\n",
    "mesajdf=pd.DataFrame({\"sorgu\":mesaj,\"label\":0},index=[42])\n",
    "\n",
    "df=pd.concat([df,mesajdf],ignore_index=True)\n",
    "\n",
    "\n",
    "\n",
    "for word in stopwords:\n",
    "    word=\" \"+word+\" \"\n",
    "    df['sorgu']=df['sorgu'].str.replace(word,\" \")\n",
    "\n",
    "cv=CountVectorizer(max_features=50)\n",
    "\n",
    "\n",
    "x=cv.fit_transform(df['sorgu']).toarray()\n",
    "y=df['label']\n",
    "\n",
    "\n",
    "tahmin=x[-1].copy()\n",
    "\n",
    "x=x[0:-1]\n",
    "y=y[0:-1]\n",
    "\n",
    "x_train,x_test,y_train,y_test=train_test_split(x,y,random_state=21,train_size=0.7)\n",
    "\n",
    "rf=RandomForestClassifier()\n",
    "model=rf.fit(x_train,y_train)\n",
    "skor=model.score(x_test,y_test)\n",
    "\n",
    "sonuc=model.predict([tahmin])\n",
    "\n",
    "print(\"Sonuc:\",sonuc,\"Skor:\",skor)"
   ]
  },
  {
   "cell_type": "code",
   "execution_count": 4,
   "id": "9c41f47a-91c5-4db9-ae4c-e577a9e95245",
   "metadata": {},
   "outputs": [
    {
     "ename": "SyntaxError",
     "evalue": "invalid syntax (765896576.py, line 1)",
     "output_type": "error",
     "traceback": [
      "\u001b[1;36m  Cell \u001b[1;32mIn[4], line 1\u001b[1;36m\u001b[0m\n\u001b[1;33m    eft ile takipçilere para göndermek istiyorum\u001b[0m\n\u001b[1;37m        ^\u001b[0m\n\u001b[1;31mSyntaxError\u001b[0m\u001b[1;31m:\u001b[0m invalid syntax\n"
     ]
    }
   ],
   "source": [
    "eft ile takipçilere para göndermek istiyorum\n",
    "kredi kartımı kaybettim"
   ]
  },
  {
   "cell_type": "code",
   "execution_count": null,
   "id": "4a9289ba-07fd-46ad-bae3-4c2ce20eb282",
   "metadata": {},
   "outputs": [],
   "source": []
  },
  {
   "cell_type": "code",
   "execution_count": null,
   "id": "62f5260f-909a-473e-938c-45463db49621",
   "metadata": {},
   "outputs": [],
   "source": []
  }
 ],
 "metadata": {
  "kernelspec": {
   "display_name": "Python 3 (ipykernel)",
   "language": "python",
   "name": "python3"
  },
  "language_info": {
   "codemirror_mode": {
    "name": "ipython",
    "version": 3
   },
   "file_extension": ".py",
   "mimetype": "text/x-python",
   "name": "python",
   "nbconvert_exporter": "python",
   "pygments_lexer": "ipython3",
   "version": "3.12.7"
  }
 },
 "nbformat": 4,
 "nbformat_minor": 5
}
